{
  "nbformat": 4,
  "nbformat_minor": 0,
  "metadata": {
    "colab": {
      "provenance": []
    },
    "kernelspec": {
      "name": "python3",
      "display_name": "Python 3"
    },
    "language_info": {
      "name": "python"
    }
  },
  "cells": [
    {
      "cell_type": "code",
      "execution_count": null,
      "metadata": {
        "id": "Nh4k-FXrCV2g"
      },
      "outputs": [],
      "source": [
        "import cv2"
      ]
    },
    {
      "cell_type": "code",
      "source": [
        "cameraman = cv2.imread(\"C:\\\\Users\\\\cameraman.jpg\",0)\n",
        "plt.imshow(cameraman,cmap='gray')"
      ],
      "metadata": {
        "id": "v9wofh7sCW1m"
      },
      "execution_count": null,
      "outputs": []
    },
    {
      "cell_type": "code",
      "source": [
        "cameraman_edge = cv2.Canny(image=cameraman, threshold1=255, threshold2=255)\n",
        "plt.imshow(cameraman_edge,cmap='gray')"
      ],
      "metadata": {
        "id": "CI4WaKZaCY5a"
      },
      "execution_count": null,
      "outputs": []
    }
  ]
}