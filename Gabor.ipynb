{
  "nbformat": 4,
  "nbformat_minor": 0,
  "metadata": {
    "colab": {
      "provenance": []
    },
    "kernelspec": {
      "name": "python3",
      "display_name": "Python 3"
    },
    "language_info": {
      "name": "python"
    }
  },
  "cells": [
    {
      "cell_type": "code",
      "execution_count": null,
      "metadata": {
        "id": "qUZo-qIeSnDG"
      },
      "outputs": [],
      "source": [
        "import cv2\n",
        "import numpy as np\n",
        "import matplotlib.pyplot as plt"
      ]
    },
    {
      "cell_type": "code",
      "source": [
        "def build_gabor_filter(ksize, sigma, theta, lambd, gamma, psi):\n",
        "    return cv2.getGaborKernel((ksize, ksize), sigma, theta, lambd, gamma, psi, ktype=cv2.CV_32F)\n",
        "\n",
        "ksize = 31\n",
        "sigma = 4.0\n",
        "theta = np.pi / 4\n",
        "lambd = 10.0\n",
        "gamma = 0.5\n",
        "psi = 0\n",
        "\n",
        "gabor_filter = build_gabor_filter(ksize, sigma, theta, lambd, gamma, psi)\n",
        "\n",
        "image = cv2.imread(\"C:\\\\Users\\\\image.jpg\")\n",
        "gray = cv2.cvtColor(image, cv2.COLOR_BGR2GRAY)\n",
        "\n",
        "filtered_image = cv2.filter2D(gray, cv2.CV_8UC3, gabor_filter)"
      ],
      "metadata": {
        "id": "14_PaD6HSzGU"
      },
      "execution_count": null,
      "outputs": []
    },
    {
      "cell_type": "code",
      "source": [
        "plt.figure(figsize=(10, 5))\n",
        "plt.subplot(1, 2, 1)\n",
        "plt.title('Original Image')\n",
        "plt.imshow(gray, cmap='gray')\n",
        "\n",
        "plt.subplot(1, 2, 2)\n",
        "plt.title('Gabor Filtered Image')\n",
        "plt.imshow(filtered_image, cmap='gray')\n",
        "\n",
        "plt.show()"
      ],
      "metadata": {
        "id": "FIBHevo3SzQK"
      },
      "execution_count": null,
      "outputs": []
    }
  ]
}