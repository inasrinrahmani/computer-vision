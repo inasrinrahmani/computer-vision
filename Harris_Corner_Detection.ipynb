{
  "nbformat": 4,
  "nbformat_minor": 0,
  "metadata": {
    "colab": {
      "provenance": []
    },
    "kernelspec": {
      "name": "python3",
      "display_name": "Python 3"
    },
    "language_info": {
      "name": "python"
    }
  },
  "cells": [
    {
      "cell_type": "code",
      "execution_count": null,
      "metadata": {
        "id": "K0CO3_WCKx79"
      },
      "outputs": [],
      "source": [
        "import cv2\n",
        "import numpy as np\n",
        "import matplotlib.pyplot as plt"
      ]
    },
    {
      "cell_type": "code",
      "source": [
        "image = cv2.imread(\"C:\\\\Users\\\\image.jpg\")\n",
        "gray = cv2.cvtColor(image, cv2.COLOR_BGR2GRAY)"
      ],
      "metadata": {
        "id": "_IZzlLK9LE_I"
      },
      "execution_count": null,
      "outputs": []
    },
    {
      "cell_type": "code",
      "source": [
        "gray = np.float32(gray)\n",
        "harris_corners = cv2.cornerHarris(gray, blockSize=2, ksize=3, k=0.04)\n",
        "harris_corners = cv2.dilate(harris_corners, None)\n",
        "threshold = 0.01 * harris_corners.max()\n",
        "image[harris_corners > threshold] = [0, 0, 255]"
      ],
      "metadata": {
        "id": "oCmq1rOJK9aI"
      },
      "execution_count": null,
      "outputs": []
    },
    {
      "cell_type": "code",
      "source": [
        "plt.figure(figsize=(8, 8))\n",
        "plt.imshow(cv2.cvtColor(image, cv2.COLOR_BGR2RGB))\n",
        "plt.title('Harris Corner Detection')\n",
        "plt.show()"
      ],
      "metadata": {
        "id": "uGQT8BEoK-WW"
      },
      "execution_count": null,
      "outputs": []
    }
  ]
}