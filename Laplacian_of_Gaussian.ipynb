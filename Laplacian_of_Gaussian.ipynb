{
  "nbformat": 4,
  "nbformat_minor": 0,
  "metadata": {
    "colab": {
      "provenance": []
    },
    "kernelspec": {
      "name": "python3",
      "display_name": "Python 3"
    },
    "language_info": {
      "name": "python"
    }
  },
  "cells": [
    {
      "cell_type": "code",
      "execution_count": null,
      "metadata": {
        "id": "6b3spTs-JdWh"
      },
      "outputs": [],
      "source": [
        "import cv2\n",
        "import numpy as np\n",
        "import matplotlib.pyplot as plt"
      ]
    },
    {
      "cell_type": "code",
      "source": [
        "image = cv2.imread(\"C:\\\\Users\\\\image.jpg\", cv2.IMREAD_GRAYSCALE)"
      ],
      "metadata": {
        "id": "DXmV9ylVKJF1"
      },
      "execution_count": null,
      "outputs": []
    },
    {
      "cell_type": "code",
      "source": [
        "blurred = cv2.GaussianBlur(image, (5, 5), 0)\n",
        "laplacian = cv2.Laplacian(blurred, cv2.CV_64F)\n",
        "laplacian = np.uint8(np.absolute(laplacian))"
      ],
      "metadata": {
        "id": "COS2Fw9gJkYI"
      },
      "execution_count": null,
      "outputs": []
    },
    {
      "cell_type": "code",
      "source": [
        "plt.figure(figsize=(10, 5))\n",
        "plt.subplot(1, 2, 1)\n",
        "plt.title('Original Image')\n",
        "plt.imshow(image, cmap='gray')\n",
        "\n",
        "plt.subplot(1, 2, 2)\n",
        "plt.title('Laplacian of Gaussian (LoG)')\n",
        "plt.imshow(laplacian, cmap='gray')\n",
        "\n",
        "plt.show()"
      ],
      "metadata": {
        "id": "aXKkwCfyJsme"
      },
      "execution_count": null,
      "outputs": []
    }
  ]
}