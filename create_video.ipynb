{
  "nbformat": 4,
  "nbformat_minor": 0,
  "metadata": {
    "colab": {
      "provenance": []
    },
    "kernelspec": {
      "name": "python3",
      "display_name": "Python 3"
    },
    "language_info": {
      "name": "python"
    }
  },
  "cells": [
    {
      "cell_type": "code",
      "execution_count": null,
      "metadata": {
        "id": "isPnZ4GuA0Dx"
      },
      "outputs": [],
      "source": [
        "import cv2\n",
        "import os\n",
        "image_folder = \"C:\\\\Users\\\\video\"\n",
        "images = [img for img in os.listdir(image_folder) if img.endswith(\".jpg\")]\n",
        "images.sort()\n",
        "video_name = \"C:\\\\Users\\\\output_video.mp4\"\n",
        "target_width = 640\n",
        "target_height = 480\n",
        "fourcc = cv2.VideoWriter_fourcc(*'XVID')\n",
        "video = cv2.VideoWriter(video_name, fourcc, 1, (target_width, target_height))\n",
        "for image_name in images:\n",
        "    image_path = os.path.join(image_folder, image_name)\n",
        "    image = cv2.imread(image_path)\n",
        "    resized_image = cv2.resize(image, (target_width, target_height))\n",
        "    video.write(resized_image)\n",
        "video.release()\n",
        "print(\"Video created successfully!\")\n",
        "cv2.destroyAllWindows()"
      ]
    }
  ]
}