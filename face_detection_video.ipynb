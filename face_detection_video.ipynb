{
  "nbformat": 4,
  "nbformat_minor": 0,
  "metadata": {
    "colab": {
      "provenance": []
    },
    "kernelspec": {
      "name": "python3",
      "display_name": "Python 3"
    },
    "language_info": {
      "name": "python"
    }
  },
  "cells": [
    {
      "cell_type": "code",
      "source": [
        "import cv2"
      ],
      "metadata": {
        "id": "CZy0lESaDVsw"
      },
      "execution_count": null,
      "outputs": []
    },
    {
      "cell_type": "code",
      "execution_count": null,
      "metadata": {
        "id": "JbSZ-OMH9sJM"
      },
      "outputs": [],
      "source": [
        "cap = cv2.VideoCapture(\"C:\\\\Users\\\\face.mp4\")\n",
        "fps = 25\n",
        "if cap.isOpened()== False:\n",
        "    print(\"Error: Could not open video file.\")\n",
        "while cap.isOpened():\n",
        "    ret, frame  = cap.read()\n",
        "    if ret == True:\n",
        "        frame = detect_face(frame)\n",
        "        cv2.imshow('video Face Detection',frame)\n",
        "        if cv2.waitKey(25) & 0xFF == ord('q'):\n",
        "            break\n",
        "    else:\n",
        "        break\n",
        "cap.release()\n",
        "cv2.destroyAllWindows()"
      ]
    }
  ]
}